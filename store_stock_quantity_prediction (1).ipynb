{
 "cells": [
  {
   "cell_type": "markdown",
   "id": "bcb60c4d",
   "metadata": {},
   "source": [
    "# Store Product Quantity Prediction"
   ]
  },
  {
   "cell_type": "code",
   "execution_count": 1130,
   "id": "760392c6",
   "metadata": {},
   "outputs": [],
   "source": [
    "import pandas as pd\n",
    "import matplotlib.pyplot as plt\n",
    "import numpy as np\n",
    "import seaborn as sns\n",
    "import warnings\n",
    "warnings.filterwarnings(\"ignore\")"
   ]
  },
  {
   "cell_type": "code",
   "execution_count": 1131,
   "id": "40fb94a1",
   "metadata": {},
   "outputs": [
    {
     "data": {
      "text/html": [
       "<div>\n",
       "<style scoped>\n",
       "    .dataframe tbody tr th:only-of-type {\n",
       "        vertical-align: middle;\n",
       "    }\n",
       "\n",
       "    .dataframe tbody tr th {\n",
       "        vertical-align: top;\n",
       "    }\n",
       "\n",
       "    .dataframe thead th {\n",
       "        text-align: right;\n",
       "    }\n",
       "</style>\n",
       "<table border=\"1\" class=\"dataframe\">\n",
       "  <thead>\n",
       "    <tr style=\"text-align: right;\">\n",
       "      <th></th>\n",
       "      <th>Product_Code</th>\n",
       "      <th>Warehouse</th>\n",
       "      <th>Product_Category</th>\n",
       "      <th>Date</th>\n",
       "      <th>Order_Demand</th>\n",
       "    </tr>\n",
       "  </thead>\n",
       "  <tbody>\n",
       "    <tr>\n",
       "      <th>0</th>\n",
       "      <td>Product_0993</td>\n",
       "      <td>Whse_J</td>\n",
       "      <td>Category_028</td>\n",
       "      <td>2012/7/27</td>\n",
       "      <td>100</td>\n",
       "    </tr>\n",
       "    <tr>\n",
       "      <th>1</th>\n",
       "      <td>Product_0979</td>\n",
       "      <td>Whse_J</td>\n",
       "      <td>Category_028</td>\n",
       "      <td>2012/1/19</td>\n",
       "      <td>500</td>\n",
       "    </tr>\n",
       "    <tr>\n",
       "      <th>2</th>\n",
       "      <td>Product_0979</td>\n",
       "      <td>Whse_J</td>\n",
       "      <td>Category_028</td>\n",
       "      <td>2012/2/3</td>\n",
       "      <td>500</td>\n",
       "    </tr>\n",
       "    <tr>\n",
       "      <th>3</th>\n",
       "      <td>Product_0979</td>\n",
       "      <td>Whse_J</td>\n",
       "      <td>Category_028</td>\n",
       "      <td>2012/2/9</td>\n",
       "      <td>500</td>\n",
       "    </tr>\n",
       "    <tr>\n",
       "      <th>4</th>\n",
       "      <td>Product_0979</td>\n",
       "      <td>Whse_J</td>\n",
       "      <td>Category_028</td>\n",
       "      <td>2012/3/2</td>\n",
       "      <td>500</td>\n",
       "    </tr>\n",
       "  </tbody>\n",
       "</table>\n",
       "</div>"
      ],
      "text/plain": [
       "   Product_Code Warehouse Product_Category       Date Order_Demand\n",
       "0  Product_0993    Whse_J     Category_028  2012/7/27         100 \n",
       "1  Product_0979    Whse_J     Category_028  2012/1/19         500 \n",
       "2  Product_0979    Whse_J     Category_028   2012/2/3         500 \n",
       "3  Product_0979    Whse_J     Category_028   2012/2/9         500 \n",
       "4  Product_0979    Whse_J     Category_028   2012/3/2         500 "
      ]
     },
     "execution_count": 1131,
     "metadata": {},
     "output_type": "execute_result"
    }
   ],
   "source": [
    "df_warehaouse=pd.read_csv(\"Historical Product Demand.csv\")\n",
    "df_warehaouse.head()"
   ]
  },
  {
   "cell_type": "code",
   "execution_count": 1132,
   "id": "ee789c49",
   "metadata": {},
   "outputs": [
    {
     "data": {
      "text/plain": [
       "Warehouse\n",
       "Whse_J    764447\n",
       "Whse_A    153574\n",
       "Whse_S     88200\n",
       "Whse_C     42354\n",
       "Name: count, dtype: int64"
      ]
     },
     "execution_count": 1132,
     "metadata": {},
     "output_type": "execute_result"
    }
   ],
   "source": [
    "df_warehaouse.Warehouse.value_counts()"
   ]
  },
  {
   "cell_type": "code",
   "execution_count": 1133,
   "id": "c4fa6b22",
   "metadata": {},
   "outputs": [
    {
     "data": {
      "text/plain": [
       "Product_Code            0\n",
       "Warehouse               0\n",
       "Product_Category        0\n",
       "Date                11239\n",
       "Order_Demand            0\n",
       "dtype: int64"
      ]
     },
     "execution_count": 1133,
     "metadata": {},
     "output_type": "execute_result"
    }
   ],
   "source": [
    "df_warehaouse.isnull().sum()"
   ]
  },
  {
   "cell_type": "code",
   "execution_count": 1134,
   "id": "2c9671f4",
   "metadata": {},
   "outputs": [
    {
     "data": {
      "text/plain": [
       "Product_Code\n",
       "Product_1359    16936\n",
       "Product_1295    10575\n",
       "Product_1378     9770\n",
       "Product_1286     8888\n",
       "Product_1382     8619\n",
       "                ...  \n",
       "Product_0244        7\n",
       "Product_0233        5\n",
       "Product_0234        4\n",
       "Product_0553        1\n",
       "Product_0853        1\n",
       "Name: count, Length: 1625, dtype: int64"
      ]
     },
     "execution_count": 1134,
     "metadata": {},
     "output_type": "execute_result"
    }
   ],
   "source": [
    "df_warehaouse[df_warehaouse[\"Warehouse\"]==\"Whse_J\"].Product_Code.value_counts()"
   ]
  },
  {
   "cell_type": "code",
   "execution_count": 1135,
   "id": "45bebe54",
   "metadata": {},
   "outputs": [],
   "source": [
    "# Here we select one warehouse"
   ]
  },
  {
   "cell_type": "code",
   "execution_count": 1136,
   "id": "d2709a4f",
   "metadata": {},
   "outputs": [],
   "source": [
    "df_whse_j=df_warehaouse[df_warehaouse[\"Warehouse\"]==\"Whse_J\"]"
   ]
  },
  {
   "cell_type": "code",
   "execution_count": 1137,
   "id": "7e866ecc",
   "metadata": {},
   "outputs": [],
   "source": [
    "# Here we select one product of that warehouse to make a model or make dataset to behave like a store dataset."
   ]
  },
  {
   "cell_type": "code",
   "execution_count": 1138,
   "id": "3124b5e7",
   "metadata": {},
   "outputs": [
    {
     "data": {
      "text/html": [
       "<div>\n",
       "<style scoped>\n",
       "    .dataframe tbody tr th:only-of-type {\n",
       "        vertical-align: middle;\n",
       "    }\n",
       "\n",
       "    .dataframe tbody tr th {\n",
       "        vertical-align: top;\n",
       "    }\n",
       "\n",
       "    .dataframe thead th {\n",
       "        text-align: right;\n",
       "    }\n",
       "</style>\n",
       "<table border=\"1\" class=\"dataframe\">\n",
       "  <thead>\n",
       "    <tr style=\"text-align: right;\">\n",
       "      <th></th>\n",
       "      <th>Product_Code</th>\n",
       "      <th>Warehouse</th>\n",
       "      <th>Product_Category</th>\n",
       "      <th>Date</th>\n",
       "      <th>Order_Demand</th>\n",
       "    </tr>\n",
       "  </thead>\n",
       "  <tbody>\n",
       "    <tr>\n",
       "      <th>276</th>\n",
       "      <td>Product_1359</td>\n",
       "      <td>Whse_J</td>\n",
       "      <td>Category_019</td>\n",
       "      <td>2012/4/18</td>\n",
       "      <td>80000</td>\n",
       "    </tr>\n",
       "    <tr>\n",
       "      <th>282</th>\n",
       "      <td>Product_1359</td>\n",
       "      <td>Whse_J</td>\n",
       "      <td>Category_019</td>\n",
       "      <td>2012/5/21</td>\n",
       "      <td>70000</td>\n",
       "    </tr>\n",
       "    <tr>\n",
       "      <th>289</th>\n",
       "      <td>Product_1359</td>\n",
       "      <td>Whse_J</td>\n",
       "      <td>Category_019</td>\n",
       "      <td>2012/6/26</td>\n",
       "      <td>80000</td>\n",
       "    </tr>\n",
       "    <tr>\n",
       "      <th>292</th>\n",
       "      <td>Product_1359</td>\n",
       "      <td>Whse_J</td>\n",
       "      <td>Category_019</td>\n",
       "      <td>2012/7/17</td>\n",
       "      <td>100000</td>\n",
       "    </tr>\n",
       "    <tr>\n",
       "      <th>296</th>\n",
       "      <td>Product_1359</td>\n",
       "      <td>Whse_J</td>\n",
       "      <td>Category_019</td>\n",
       "      <td>2012/8/24</td>\n",
       "      <td>100000</td>\n",
       "    </tr>\n",
       "  </tbody>\n",
       "</table>\n",
       "</div>"
      ],
      "text/plain": [
       "     Product_Code Warehouse Product_Category       Date Order_Demand\n",
       "276  Product_1359    Whse_J     Category_019  2012/4/18       80000 \n",
       "282  Product_1359    Whse_J     Category_019  2012/5/21       70000 \n",
       "289  Product_1359    Whse_J     Category_019  2012/6/26       80000 \n",
       "292  Product_1359    Whse_J     Category_019  2012/7/17      100000 \n",
       "296  Product_1359    Whse_J     Category_019  2012/8/24      100000 "
      ]
     },
     "execution_count": 1138,
     "metadata": {},
     "output_type": "execute_result"
    }
   ],
   "source": [
    "df_store_Product_1359=df_whse_j[df_whse_j[\"Product_Code\"]==\"Product_1359\"]\n",
    "df_store_Product_1359.head()"
   ]
  },
  {
   "cell_type": "code",
   "execution_count": 1139,
   "id": "8e4069ee",
   "metadata": {},
   "outputs": [
    {
     "name": "stdout",
     "output_type": "stream",
     "text": [
      "<class 'pandas.core.frame.DataFrame'>\n",
      "Index: 16936 entries, 276 to 1046518\n",
      "Data columns (total 5 columns):\n",
      " #   Column            Non-Null Count  Dtype \n",
      "---  ------            --------------  ----- \n",
      " 0   Product_Code      16936 non-null  object\n",
      " 1   Warehouse         16936 non-null  object\n",
      " 2   Product_Category  16936 non-null  object\n",
      " 3   Date              16936 non-null  object\n",
      " 4   Order_Demand      16936 non-null  object\n",
      "dtypes: object(5)\n",
      "memory usage: 793.9+ KB\n"
     ]
    }
   ],
   "source": [
    "df_store_Product_1359.info()"
   ]
  },
  {
   "cell_type": "code",
   "execution_count": 1140,
   "id": "9d06f5ad",
   "metadata": {},
   "outputs": [],
   "source": [
    "# make date columns type as datetime"
   ]
  },
  {
   "cell_type": "code",
   "execution_count": 1141,
   "id": "6c8f43f8",
   "metadata": {},
   "outputs": [],
   "source": [
    "df_store_Product_1359[\"Date\"]=pd.to_datetime(df_store_Product_1359[\"Date\"])"
   ]
  },
  {
   "cell_type": "code",
   "execution_count": 1142,
   "id": "d297eb5e",
   "metadata": {},
   "outputs": [
    {
     "name": "stdout",
     "output_type": "stream",
     "text": [
      "<class 'pandas.core.frame.DataFrame'>\n",
      "Index: 16936 entries, 276 to 1046518\n",
      "Data columns (total 5 columns):\n",
      " #   Column            Non-Null Count  Dtype         \n",
      "---  ------            --------------  -----         \n",
      " 0   Product_Code      16936 non-null  object        \n",
      " 1   Warehouse         16936 non-null  object        \n",
      " 2   Product_Category  16936 non-null  object        \n",
      " 3   Date              16936 non-null  datetime64[ns]\n",
      " 4   Order_Demand      16936 non-null  object        \n",
      "dtypes: datetime64[ns](1), object(4)\n",
      "memory usage: 793.9+ KB\n"
     ]
    }
   ],
   "source": [
    "df_store_Product_1359.info()"
   ]
  },
  {
   "cell_type": "code",
   "execution_count": 1143,
   "id": "9c5ffc04",
   "metadata": {},
   "outputs": [
    {
     "data": {
      "text/html": [
       "<div>\n",
       "<style scoped>\n",
       "    .dataframe tbody tr th:only-of-type {\n",
       "        vertical-align: middle;\n",
       "    }\n",
       "\n",
       "    .dataframe tbody tr th {\n",
       "        vertical-align: top;\n",
       "    }\n",
       "\n",
       "    .dataframe thead th {\n",
       "        text-align: right;\n",
       "    }\n",
       "</style>\n",
       "<table border=\"1\" class=\"dataframe\">\n",
       "  <thead>\n",
       "    <tr style=\"text-align: right;\">\n",
       "      <th></th>\n",
       "      <th>Product_Code</th>\n",
       "      <th>Warehouse</th>\n",
       "      <th>Product_Category</th>\n",
       "      <th>Date</th>\n",
       "      <th>Order_Demand</th>\n",
       "    </tr>\n",
       "  </thead>\n",
       "  <tbody>\n",
       "    <tr>\n",
       "      <th>276</th>\n",
       "      <td>Product_1359</td>\n",
       "      <td>Whse_J</td>\n",
       "      <td>Category_019</td>\n",
       "      <td>2012-04-18</td>\n",
       "      <td>80000</td>\n",
       "    </tr>\n",
       "    <tr>\n",
       "      <th>282</th>\n",
       "      <td>Product_1359</td>\n",
       "      <td>Whse_J</td>\n",
       "      <td>Category_019</td>\n",
       "      <td>2012-05-21</td>\n",
       "      <td>70000</td>\n",
       "    </tr>\n",
       "    <tr>\n",
       "      <th>289</th>\n",
       "      <td>Product_1359</td>\n",
       "      <td>Whse_J</td>\n",
       "      <td>Category_019</td>\n",
       "      <td>2012-06-26</td>\n",
       "      <td>80000</td>\n",
       "    </tr>\n",
       "    <tr>\n",
       "      <th>292</th>\n",
       "      <td>Product_1359</td>\n",
       "      <td>Whse_J</td>\n",
       "      <td>Category_019</td>\n",
       "      <td>2012-07-17</td>\n",
       "      <td>100000</td>\n",
       "    </tr>\n",
       "    <tr>\n",
       "      <th>296</th>\n",
       "      <td>Product_1359</td>\n",
       "      <td>Whse_J</td>\n",
       "      <td>Category_019</td>\n",
       "      <td>2012-08-24</td>\n",
       "      <td>100000</td>\n",
       "    </tr>\n",
       "    <tr>\n",
       "      <th>...</th>\n",
       "      <td>...</td>\n",
       "      <td>...</td>\n",
       "      <td>...</td>\n",
       "      <td>...</td>\n",
       "      <td>...</td>\n",
       "    </tr>\n",
       "    <tr>\n",
       "      <th>1046514</th>\n",
       "      <td>Product_1359</td>\n",
       "      <td>Whse_J</td>\n",
       "      <td>Category_019</td>\n",
       "      <td>2016-10-03</td>\n",
       "      <td>20000</td>\n",
       "    </tr>\n",
       "    <tr>\n",
       "      <th>1046515</th>\n",
       "      <td>Product_1359</td>\n",
       "      <td>Whse_J</td>\n",
       "      <td>Category_019</td>\n",
       "      <td>2016-09-16</td>\n",
       "      <td>10000</td>\n",
       "    </tr>\n",
       "    <tr>\n",
       "      <th>1046516</th>\n",
       "      <td>Product_1359</td>\n",
       "      <td>Whse_J</td>\n",
       "      <td>Category_019</td>\n",
       "      <td>2016-11-01</td>\n",
       "      <td>30000</td>\n",
       "    </tr>\n",
       "    <tr>\n",
       "      <th>1046517</th>\n",
       "      <td>Product_1359</td>\n",
       "      <td>Whse_J</td>\n",
       "      <td>Category_019</td>\n",
       "      <td>2016-12-01</td>\n",
       "      <td>20000</td>\n",
       "    </tr>\n",
       "    <tr>\n",
       "      <th>1046518</th>\n",
       "      <td>Product_1359</td>\n",
       "      <td>Whse_J</td>\n",
       "      <td>Category_019</td>\n",
       "      <td>2016-12-09</td>\n",
       "      <td>20000</td>\n",
       "    </tr>\n",
       "  </tbody>\n",
       "</table>\n",
       "<p>16936 rows × 5 columns</p>\n",
       "</div>"
      ],
      "text/plain": [
       "         Product_Code Warehouse Product_Category       Date Order_Demand\n",
       "276      Product_1359    Whse_J     Category_019 2012-04-18       80000 \n",
       "282      Product_1359    Whse_J     Category_019 2012-05-21       70000 \n",
       "289      Product_1359    Whse_J     Category_019 2012-06-26       80000 \n",
       "292      Product_1359    Whse_J     Category_019 2012-07-17      100000 \n",
       "296      Product_1359    Whse_J     Category_019 2012-08-24      100000 \n",
       "...               ...       ...              ...        ...          ...\n",
       "1046514  Product_1359    Whse_J     Category_019 2016-10-03       20000 \n",
       "1046515  Product_1359    Whse_J     Category_019 2016-09-16       10000 \n",
       "1046516  Product_1359    Whse_J     Category_019 2016-11-01       30000 \n",
       "1046517  Product_1359    Whse_J     Category_019 2016-12-01       20000 \n",
       "1046518  Product_1359    Whse_J     Category_019 2016-12-09       20000 \n",
       "\n",
       "[16936 rows x 5 columns]"
      ]
     },
     "execution_count": 1143,
     "metadata": {},
     "output_type": "execute_result"
    }
   ],
   "source": [
    "df_store_Product_1359"
   ]
  },
  {
   "cell_type": "code",
   "execution_count": 1144,
   "id": "ba6579c4",
   "metadata": {},
   "outputs": [],
   "source": [
    "df=df_store_Product_1359.sort_values(by=\"Date\")"
   ]
  },
  {
   "cell_type": "code",
   "execution_count": 1145,
   "id": "1defa141",
   "metadata": {},
   "outputs": [
    {
     "data": {
      "text/html": [
       "<div>\n",
       "<style scoped>\n",
       "    .dataframe tbody tr th:only-of-type {\n",
       "        vertical-align: middle;\n",
       "    }\n",
       "\n",
       "    .dataframe tbody tr th {\n",
       "        vertical-align: top;\n",
       "    }\n",
       "\n",
       "    .dataframe thead th {\n",
       "        text-align: right;\n",
       "    }\n",
       "</style>\n",
       "<table border=\"1\" class=\"dataframe\">\n",
       "  <thead>\n",
       "    <tr style=\"text-align: right;\">\n",
       "      <th></th>\n",
       "      <th>Product_Code</th>\n",
       "      <th>Warehouse</th>\n",
       "      <th>Product_Category</th>\n",
       "      <th>Date</th>\n",
       "      <th>Order_Demand</th>\n",
       "    </tr>\n",
       "  </thead>\n",
       "  <tbody>\n",
       "    <tr>\n",
       "      <th>59646</th>\n",
       "      <td>Product_1359</td>\n",
       "      <td>Whse_J</td>\n",
       "      <td>Category_019</td>\n",
       "      <td>2012-01-05</td>\n",
       "      <td>1000</td>\n",
       "    </tr>\n",
       "    <tr>\n",
       "      <th>63099</th>\n",
       "      <td>Product_1359</td>\n",
       "      <td>Whse_J</td>\n",
       "      <td>Category_019</td>\n",
       "      <td>2012-01-05</td>\n",
       "      <td>5000</td>\n",
       "    </tr>\n",
       "    <tr>\n",
       "      <th>2577</th>\n",
       "      <td>Product_1359</td>\n",
       "      <td>Whse_J</td>\n",
       "      <td>Category_019</td>\n",
       "      <td>2012-01-05</td>\n",
       "      <td>2000</td>\n",
       "    </tr>\n",
       "    <tr>\n",
       "      <th>32610</th>\n",
       "      <td>Product_1359</td>\n",
       "      <td>Whse_J</td>\n",
       "      <td>Category_019</td>\n",
       "      <td>2012-01-05</td>\n",
       "      <td>10000</td>\n",
       "    </tr>\n",
       "    <tr>\n",
       "      <th>46739</th>\n",
       "      <td>Product_1359</td>\n",
       "      <td>Whse_J</td>\n",
       "      <td>Category_019</td>\n",
       "      <td>2012-01-05</td>\n",
       "      <td>5000</td>\n",
       "    </tr>\n",
       "  </tbody>\n",
       "</table>\n",
       "</div>"
      ],
      "text/plain": [
       "       Product_Code Warehouse Product_Category       Date Order_Demand\n",
       "59646  Product_1359    Whse_J     Category_019 2012-01-05        1000 \n",
       "63099  Product_1359    Whse_J     Category_019 2012-01-05        5000 \n",
       "2577   Product_1359    Whse_J     Category_019 2012-01-05        2000 \n",
       "32610  Product_1359    Whse_J     Category_019 2012-01-05       10000 \n",
       "46739  Product_1359    Whse_J     Category_019 2012-01-05        5000 "
      ]
     },
     "execution_count": 1145,
     "metadata": {},
     "output_type": "execute_result"
    }
   ],
   "source": [
    "df.head()"
   ]
  },
  {
   "cell_type": "code",
   "execution_count": 1146,
   "id": "e6357c14",
   "metadata": {},
   "outputs": [
    {
     "name": "stdout",
     "output_type": "stream",
     "text": [
      "<class 'pandas.core.frame.DataFrame'>\n",
      "Index: 16936 entries, 59646 to 921328\n",
      "Data columns (total 5 columns):\n",
      " #   Column            Non-Null Count  Dtype         \n",
      "---  ------            --------------  -----         \n",
      " 0   Product_Code      16936 non-null  object        \n",
      " 1   Warehouse         16936 non-null  object        \n",
      " 2   Product_Category  16936 non-null  object        \n",
      " 3   Date              16936 non-null  datetime64[ns]\n",
      " 4   Order_Demand      16936 non-null  object        \n",
      "dtypes: datetime64[ns](1), object(4)\n",
      "memory usage: 793.9+ KB\n"
     ]
    }
   ],
   "source": [
    "df.info()"
   ]
  },
  {
   "cell_type": "code",
   "execution_count": 1147,
   "id": "920c8550",
   "metadata": {},
   "outputs": [],
   "source": [
    "# convert Order_Demand to integer"
   ]
  },
  {
   "cell_type": "code",
   "execution_count": 1148,
   "id": "4341ddc3",
   "metadata": {},
   "outputs": [],
   "source": [
    "df[\"Order_Demand\"]=df[\"Order_Demand\"].str.replace(\"(\",\"\").str.replace(\")\",\"\").astype(\"int\")"
   ]
  },
  {
   "cell_type": "code",
   "execution_count": 1149,
   "id": "04e95824",
   "metadata": {},
   "outputs": [
    {
     "data": {
      "text/html": [
       "<div>\n",
       "<style scoped>\n",
       "    .dataframe tbody tr th:only-of-type {\n",
       "        vertical-align: middle;\n",
       "    }\n",
       "\n",
       "    .dataframe tbody tr th {\n",
       "        vertical-align: top;\n",
       "    }\n",
       "\n",
       "    .dataframe thead th {\n",
       "        text-align: right;\n",
       "    }\n",
       "</style>\n",
       "<table border=\"1\" class=\"dataframe\">\n",
       "  <thead>\n",
       "    <tr style=\"text-align: right;\">\n",
       "      <th></th>\n",
       "      <th>Product_Code</th>\n",
       "      <th>Warehouse</th>\n",
       "      <th>Product_Category</th>\n",
       "      <th>Date</th>\n",
       "      <th>Order_Demand</th>\n",
       "    </tr>\n",
       "  </thead>\n",
       "  <tbody>\n",
       "    <tr>\n",
       "      <th>59646</th>\n",
       "      <td>Product_1359</td>\n",
       "      <td>Whse_J</td>\n",
       "      <td>Category_019</td>\n",
       "      <td>2012-01-05</td>\n",
       "      <td>1000</td>\n",
       "    </tr>\n",
       "    <tr>\n",
       "      <th>63099</th>\n",
       "      <td>Product_1359</td>\n",
       "      <td>Whse_J</td>\n",
       "      <td>Category_019</td>\n",
       "      <td>2012-01-05</td>\n",
       "      <td>5000</td>\n",
       "    </tr>\n",
       "    <tr>\n",
       "      <th>2577</th>\n",
       "      <td>Product_1359</td>\n",
       "      <td>Whse_J</td>\n",
       "      <td>Category_019</td>\n",
       "      <td>2012-01-05</td>\n",
       "      <td>2000</td>\n",
       "    </tr>\n",
       "    <tr>\n",
       "      <th>32610</th>\n",
       "      <td>Product_1359</td>\n",
       "      <td>Whse_J</td>\n",
       "      <td>Category_019</td>\n",
       "      <td>2012-01-05</td>\n",
       "      <td>10000</td>\n",
       "    </tr>\n",
       "    <tr>\n",
       "      <th>46739</th>\n",
       "      <td>Product_1359</td>\n",
       "      <td>Whse_J</td>\n",
       "      <td>Category_019</td>\n",
       "      <td>2012-01-05</td>\n",
       "      <td>5000</td>\n",
       "    </tr>\n",
       "  </tbody>\n",
       "</table>\n",
       "</div>"
      ],
      "text/plain": [
       "       Product_Code Warehouse Product_Category       Date  Order_Demand\n",
       "59646  Product_1359    Whse_J     Category_019 2012-01-05          1000\n",
       "63099  Product_1359    Whse_J     Category_019 2012-01-05          5000\n",
       "2577   Product_1359    Whse_J     Category_019 2012-01-05          2000\n",
       "32610  Product_1359    Whse_J     Category_019 2012-01-05         10000\n",
       "46739  Product_1359    Whse_J     Category_019 2012-01-05          5000"
      ]
     },
     "execution_count": 1149,
     "metadata": {},
     "output_type": "execute_result"
    }
   ],
   "source": [
    "df.head()"
   ]
  },
  {
   "cell_type": "code",
   "execution_count": 1150,
   "id": "9bd9ed21",
   "metadata": {},
   "outputs": [],
   "source": [
    "df.set_index(\"Date\",inplace=True)"
   ]
  },
  {
   "cell_type": "code",
   "execution_count": 1151,
   "id": "cc56dc84",
   "metadata": {},
   "outputs": [
    {
     "data": {
      "text/html": [
       "<div>\n",
       "<style scoped>\n",
       "    .dataframe tbody tr th:only-of-type {\n",
       "        vertical-align: middle;\n",
       "    }\n",
       "\n",
       "    .dataframe tbody tr th {\n",
       "        vertical-align: top;\n",
       "    }\n",
       "\n",
       "    .dataframe thead th {\n",
       "        text-align: right;\n",
       "    }\n",
       "</style>\n",
       "<table border=\"1\" class=\"dataframe\">\n",
       "  <thead>\n",
       "    <tr style=\"text-align: right;\">\n",
       "      <th></th>\n",
       "      <th>Product_Code</th>\n",
       "      <th>Warehouse</th>\n",
       "      <th>Product_Category</th>\n",
       "      <th>Order_Demand</th>\n",
       "    </tr>\n",
       "    <tr>\n",
       "      <th>Date</th>\n",
       "      <th></th>\n",
       "      <th></th>\n",
       "      <th></th>\n",
       "      <th></th>\n",
       "    </tr>\n",
       "  </thead>\n",
       "  <tbody>\n",
       "    <tr>\n",
       "      <th>2016-12-28</th>\n",
       "      <td>Product_1359</td>\n",
       "      <td>Whse_J</td>\n",
       "      <td>Category_019</td>\n",
       "      <td>3000</td>\n",
       "    </tr>\n",
       "    <tr>\n",
       "      <th>2016-12-28</th>\n",
       "      <td>Product_1359</td>\n",
       "      <td>Whse_J</td>\n",
       "      <td>Category_019</td>\n",
       "      <td>13000</td>\n",
       "    </tr>\n",
       "    <tr>\n",
       "      <th>2016-12-28</th>\n",
       "      <td>Product_1359</td>\n",
       "      <td>Whse_J</td>\n",
       "      <td>Category_019</td>\n",
       "      <td>50000</td>\n",
       "    </tr>\n",
       "    <tr>\n",
       "      <th>2016-12-28</th>\n",
       "      <td>Product_1359</td>\n",
       "      <td>Whse_J</td>\n",
       "      <td>Category_019</td>\n",
       "      <td>3000</td>\n",
       "    </tr>\n",
       "    <tr>\n",
       "      <th>2017-01-06</th>\n",
       "      <td>Product_1359</td>\n",
       "      <td>Whse_J</td>\n",
       "      <td>Category_019</td>\n",
       "      <td>100000</td>\n",
       "    </tr>\n",
       "  </tbody>\n",
       "</table>\n",
       "</div>"
      ],
      "text/plain": [
       "            Product_Code Warehouse Product_Category  Order_Demand\n",
       "Date                                                             \n",
       "2016-12-28  Product_1359    Whse_J     Category_019          3000\n",
       "2016-12-28  Product_1359    Whse_J     Category_019         13000\n",
       "2016-12-28  Product_1359    Whse_J     Category_019         50000\n",
       "2016-12-28  Product_1359    Whse_J     Category_019          3000\n",
       "2017-01-06  Product_1359    Whse_J     Category_019        100000"
      ]
     },
     "execution_count": 1151,
     "metadata": {},
     "output_type": "execute_result"
    }
   ],
   "source": [
    "df.tail()"
   ]
  },
  {
   "cell_type": "code",
   "execution_count": 1152,
   "id": "22412507",
   "metadata": {},
   "outputs": [],
   "source": [
    "df.drop([\"Product_Code\",\"Warehouse\",\"Product_Category\"],axis=1,inplace=True)"
   ]
  },
  {
   "cell_type": "code",
   "execution_count": 1153,
   "id": "872b258d",
   "metadata": {},
   "outputs": [
    {
     "data": {
      "text/html": [
       "<div>\n",
       "<style scoped>\n",
       "    .dataframe tbody tr th:only-of-type {\n",
       "        vertical-align: middle;\n",
       "    }\n",
       "\n",
       "    .dataframe tbody tr th {\n",
       "        vertical-align: top;\n",
       "    }\n",
       "\n",
       "    .dataframe thead th {\n",
       "        text-align: right;\n",
       "    }\n",
       "</style>\n",
       "<table border=\"1\" class=\"dataframe\">\n",
       "  <thead>\n",
       "    <tr style=\"text-align: right;\">\n",
       "      <th></th>\n",
       "      <th>Order_Demand</th>\n",
       "    </tr>\n",
       "    <tr>\n",
       "      <th>Date</th>\n",
       "      <th></th>\n",
       "    </tr>\n",
       "  </thead>\n",
       "  <tbody>\n",
       "    <tr>\n",
       "      <th>2012-01-05</th>\n",
       "      <td>1000</td>\n",
       "    </tr>\n",
       "    <tr>\n",
       "      <th>2012-01-05</th>\n",
       "      <td>5000</td>\n",
       "    </tr>\n",
       "    <tr>\n",
       "      <th>2012-01-05</th>\n",
       "      <td>2000</td>\n",
       "    </tr>\n",
       "    <tr>\n",
       "      <th>2012-01-05</th>\n",
       "      <td>10000</td>\n",
       "    </tr>\n",
       "    <tr>\n",
       "      <th>2012-01-05</th>\n",
       "      <td>5000</td>\n",
       "    </tr>\n",
       "  </tbody>\n",
       "</table>\n",
       "</div>"
      ],
      "text/plain": [
       "            Order_Demand\n",
       "Date                    \n",
       "2012-01-05          1000\n",
       "2012-01-05          5000\n",
       "2012-01-05          2000\n",
       "2012-01-05         10000\n",
       "2012-01-05          5000"
      ]
     },
     "execution_count": 1153,
     "metadata": {},
     "output_type": "execute_result"
    }
   ],
   "source": [
    "df.head()"
   ]
  },
  {
   "cell_type": "code",
   "execution_count": 1154,
   "id": "c459c3ef",
   "metadata": {},
   "outputs": [],
   "source": [
    "df.drop(\"2017-01-06\",axis=0,inplace=True)"
   ]
  },
  {
   "cell_type": "code",
   "execution_count": 1155,
   "id": "cda2405f",
   "metadata": {},
   "outputs": [
    {
     "data": {
      "text/html": [
       "<div>\n",
       "<style scoped>\n",
       "    .dataframe tbody tr th:only-of-type {\n",
       "        vertical-align: middle;\n",
       "    }\n",
       "\n",
       "    .dataframe tbody tr th {\n",
       "        vertical-align: top;\n",
       "    }\n",
       "\n",
       "    .dataframe thead th {\n",
       "        text-align: right;\n",
       "    }\n",
       "</style>\n",
       "<table border=\"1\" class=\"dataframe\">\n",
       "  <thead>\n",
       "    <tr style=\"text-align: right;\">\n",
       "      <th></th>\n",
       "      <th>Order_Demand</th>\n",
       "    </tr>\n",
       "    <tr>\n",
       "      <th>Date</th>\n",
       "      <th></th>\n",
       "    </tr>\n",
       "  </thead>\n",
       "  <tbody>\n",
       "    <tr>\n",
       "      <th>2016-12-28</th>\n",
       "      <td>50000</td>\n",
       "    </tr>\n",
       "    <tr>\n",
       "      <th>2016-12-28</th>\n",
       "      <td>3000</td>\n",
       "    </tr>\n",
       "    <tr>\n",
       "      <th>2016-12-28</th>\n",
       "      <td>13000</td>\n",
       "    </tr>\n",
       "    <tr>\n",
       "      <th>2016-12-28</th>\n",
       "      <td>50000</td>\n",
       "    </tr>\n",
       "    <tr>\n",
       "      <th>2016-12-28</th>\n",
       "      <td>3000</td>\n",
       "    </tr>\n",
       "  </tbody>\n",
       "</table>\n",
       "</div>"
      ],
      "text/plain": [
       "            Order_Demand\n",
       "Date                    \n",
       "2016-12-28         50000\n",
       "2016-12-28          3000\n",
       "2016-12-28         13000\n",
       "2016-12-28         50000\n",
       "2016-12-28          3000"
      ]
     },
     "execution_count": 1155,
     "metadata": {},
     "output_type": "execute_result"
    }
   ],
   "source": [
    "df.tail()"
   ]
  },
  {
   "cell_type": "code",
   "execution_count": null,
   "id": "3183d4fc",
   "metadata": {},
   "outputs": [],
   "source": []
  },
  {
   "cell_type": "markdown",
   "id": "7f5335c5",
   "metadata": {},
   "source": [
    "# Model Implementation"
   ]
  },
  {
   "cell_type": "code",
   "execution_count": 1177,
   "id": "ed743216",
   "metadata": {},
   "outputs": [],
   "source": [
    "df_month=df.resample(rule=\"MS\").sum()"
   ]
  },
  {
   "cell_type": "code",
   "execution_count": 1178,
   "id": "859adcc9",
   "metadata": {},
   "outputs": [
    {
     "data": {
      "image/png": "[encoded data removed]",
      "text/plain": [
       "<Figure size 640x480 with 1 Axes>"
      ]
     },
     "metadata": {},
     "output_type": "display_data"
    }
   ],
   "source": [
    "sns.lineplot(data=df_month,x=df_month.index,y=\"Order_Demand\")\n",
    "plt.title(\"Order Demand Every month\")\n",
    "plt.show()"
   ]
  },
  {
   "cell_type": "code",
   "execution_count": 1179,
   "id": "071be2cb",
   "metadata": {},
   "outputs": [],
   "source": [
    "# 1. check data is stationary or not"
   ]
  },
  {
   "cell_type": "code",
   "execution_count": 1180,
   "id": "65fa910c",
   "metadata": {},
   "outputs": [],
   "source": [
    "def test_stationary(df,var):\n",
    "    df[\"roll_mean\"]=df[var].rolling(window=12,min_periods=1).mean()\n",
    "    df[\"rolling_std\"]=df[var].rolling(window=12,min_periods=1).std()\n",
    "    \n",
    "    from statsmodels.tsa.stattools import adfuller\n",
    "    adf_stats=adfuller(df[var])\n",
    "    stats=pd.Series(adf_stats[0:4],index=['Test Statistic',\"p-value\",\"#lags used\",\"number of observations used\"])\n",
    "    print(stats)\n",
    "    \n",
    "    for key,values in adf_stats[4].items():\n",
    "        print(\"criticality\",key,\":\",values)\n",
    "        \n",
    "    #sns.lineplot(data=df,x=df.index,y=df.var)\n",
    "    sns.lineplot(data=df,x=df.index,y=var)\n",
    "    sns.lineplot(x=df.index,y=df[\"roll_mean\"])\n",
    "    sns.lineplot(x=df.index,y=df.rolling_std)\n",
    "    plt.show()\n",
    "    "
   ]
  },
  {
   "cell_type": "code",
   "execution_count": 1181,
   "id": "87b2eb6d",
   "metadata": {},
   "outputs": [
    {
     "name": "stdout",
     "output_type": "stream",
     "text": [
      "Test Statistic                -7.743620e+00\n",
      "p-value                        1.045985e-11\n",
      "#lags used                     0.000000e+00\n",
      "number of observations used    5.900000e+01\n",
      "dtype: float64\n",
      "criticality 1% : -3.5463945337644063\n",
      "criticality 5% : -2.911939409384601\n",
      "criticality 10% : -2.5936515282964665\n"
     ]
    },
    {
     "data": {
      "image/png": "[encoded data removed]",
      "text/plain": [
       "<Figure size 640x480 with 1 Axes>"
      ]
     },
     "metadata": {},
     "output_type": "display_data"
    }
   ],
   "source": [
    "test_stationary(df_month,\"Order_Demand\")"
   ]
  },
  {
   "cell_type": "code",
   "execution_count": 1182,
   "id": "37ce4ef4",
   "metadata": {},
   "outputs": [],
   "source": [
    "df_month[\"shift1\"]=df_month[\"Order_Demand\"].shift(1)\n",
    "df_month[\"shift_differnce\"]=df_month[\"Order_Demand\"]-df_month[\"shift1\"]"
   ]
  },
  {
   "cell_type": "markdown",
   "id": "fc1e653f",
   "metadata": {},
   "source": [
    "# Dataset is stationary "
   ]
  },
  {
   "cell_type": "code",
   "execution_count": 1183,
   "id": "2b1e351f",
   "metadata": {},
   "outputs": [],
   "source": [
    "# Finding p,d,q value"
   ]
  },
  {
   "cell_type": "code",
   "execution_count": 1184,
   "id": "46359d2e",
   "metadata": {},
   "outputs": [
    {
     "data": {
      "text/html": [
       "<div>\n",
       "<style scoped>\n",
       "    .dataframe tbody tr th:only-of-type {\n",
       "        vertical-align: middle;\n",
       "    }\n",
       "\n",
       "    .dataframe tbody tr th {\n",
       "        vertical-align: top;\n",
       "    }\n",
       "\n",
       "    .dataframe thead th {\n",
       "        text-align: right;\n",
       "    }\n",
       "</style>\n",
       "<table border=\"1\" class=\"dataframe\">\n",
       "  <thead>\n",
       "    <tr style=\"text-align: right;\">\n",
       "      <th></th>\n",
       "      <th>Order_Demand</th>\n",
       "      <th>roll_mean</th>\n",
       "      <th>rolling_std</th>\n",
       "      <th>shift1</th>\n",
       "      <th>shift_differnce</th>\n",
       "    </tr>\n",
       "    <tr>\n",
       "      <th>Date</th>\n",
       "      <th></th>\n",
       "      <th></th>\n",
       "      <th></th>\n",
       "      <th></th>\n",
       "      <th></th>\n",
       "    </tr>\n",
       "  </thead>\n",
       "  <tbody>\n",
       "    <tr>\n",
       "      <th>2012-01-01</th>\n",
       "      <td>8911000</td>\n",
       "      <td>8.911000e+06</td>\n",
       "      <td>NaN</td>\n",
       "      <td>NaN</td>\n",
       "      <td>NaN</td>\n",
       "    </tr>\n",
       "    <tr>\n",
       "      <th>2012-02-01</th>\n",
       "      <td>8131000</td>\n",
       "      <td>8.521000e+06</td>\n",
       "      <td>551543.289326</td>\n",
       "      <td>8911000.0</td>\n",
       "      <td>-780000.0</td>\n",
       "    </tr>\n",
       "    <tr>\n",
       "      <th>2012-03-01</th>\n",
       "      <td>7775000</td>\n",
       "      <td>8.272333e+06</td>\n",
       "      <td>581038.151358</td>\n",
       "      <td>8131000.0</td>\n",
       "      <td>-356000.0</td>\n",
       "    </tr>\n",
       "    <tr>\n",
       "      <th>2012-04-01</th>\n",
       "      <td>8960000</td>\n",
       "      <td>8.444250e+06</td>\n",
       "      <td>585910.900507</td>\n",
       "      <td>7775000.0</td>\n",
       "      <td>1185000.0</td>\n",
       "    </tr>\n",
       "    <tr>\n",
       "      <th>2012-05-01</th>\n",
       "      <td>8475000</td>\n",
       "      <td>8.450400e+06</td>\n",
       "      <td>507600.039401</td>\n",
       "      <td>8960000.0</td>\n",
       "      <td>-485000.0</td>\n",
       "    </tr>\n",
       "  </tbody>\n",
       "</table>\n",
       "</div>"
      ],
      "text/plain": [
       "            Order_Demand     roll_mean    rolling_std     shift1  \\\n",
       "Date                                                               \n",
       "2012-01-01       8911000  8.911000e+06            NaN        NaN   \n",
       "2012-02-01       8131000  8.521000e+06  551543.289326  8911000.0   \n",
       "2012-03-01       7775000  8.272333e+06  581038.151358  8131000.0   \n",
       "2012-04-01       8960000  8.444250e+06  585910.900507  7775000.0   \n",
       "2012-05-01       8475000  8.450400e+06  507600.039401  8960000.0   \n",
       "\n",
       "            shift_differnce  \n",
       "Date                         \n",
       "2012-01-01              NaN  \n",
       "2012-02-01        -780000.0  \n",
       "2012-03-01        -356000.0  \n",
       "2012-04-01        1185000.0  \n",
       "2012-05-01        -485000.0  "
      ]
     },
     "execution_count": 1184,
     "metadata": {},
     "output_type": "execute_result"
    }
   ],
   "source": [
    "df_month.head()"
   ]
  },
  {
   "cell_type": "code",
   "execution_count": 1185,
   "id": "69d8bce8",
   "metadata": {},
   "outputs": [],
   "source": [
    "from statsmodels.graphics.tsaplots import plot_acf, plot_pacf"
   ]
  },
  {
   "cell_type": "code",
   "execution_count": 1186,
   "id": "659f41e0",
   "metadata": {},
   "outputs": [
    {
     "data": {
      "image/png": "[encoded data removed]",
      "text/plain": [
       "<Figure size 640x480 with 1 Axes>"
      ]
     },
     "metadata": {},
     "output_type": "display_data"
    }
   ],
   "source": [
    "plot_pacf(df_month[\"shift_differnce\"].dropna(),lags=26)\n",
    "plt.grid()"
   ]
  },
  {
   "cell_type": "code",
   "execution_count": 1187,
   "id": "1864bf2b",
   "metadata": {},
   "outputs": [],
   "source": [
    "# by pacf plot we get value of p"
   ]
  },
  {
   "cell_type": "code",
   "execution_count": 1188,
   "id": "26dc280d",
   "metadata": {},
   "outputs": [
    {
     "data": {
      "image/png": "[encoded data removed]",
      "text/plain": [
       "<Figure size 640x480 with 1 Axes>"
      ]
     },
     "metadata": {},
     "output_type": "display_data"
    }
   ],
   "source": [
    "plot_acf(df_month[\"shift_differnce\"].dropna(),lags=26)\n",
    "plt.grid()"
   ]
  },
  {
   "cell_type": "code",
   "execution_count": 251,
   "id": "013e44c4",
   "metadata": {},
   "outputs": [],
   "source": [
    "# By acf_plot we get value of q"
   ]
  },
  {
   "cell_type": "code",
   "execution_count": 1189,
   "id": "79825981",
   "metadata": {},
   "outputs": [],
   "source": [
    "from statsmodels.tsa.arima.model import ARIMA"
   ]
  },
  {
   "cell_type": "code",
   "execution_count": 1190,
   "id": "0119386b",
   "metadata": {},
   "outputs": [],
   "source": [
    "airP=df_month.copy()"
   ]
  },
  {
   "cell_type": "code",
   "execution_count": 1192,
   "id": "29a0c575",
   "metadata": {},
   "outputs": [],
   "source": [
    "# divide the dataset in two part train and test\n",
    "train=airP[:round(len(airP)*70/100)]\n",
    "test=airP[round(len(airP)*70/100):]"
   ]
  },
  {
   "cell_type": "code",
   "execution_count": 1196,
   "id": "8b3e2b17",
   "metadata": {},
   "outputs": [],
   "source": [
    "# First we try with arima model"
   ]
  },
  {
   "cell_type": "code",
   "execution_count": 1238,
   "id": "b9f3d68d",
   "metadata": {},
   "outputs": [],
   "source": [
    "arimax_model=ARIMA(train[\"Order_Demand\"],order=(2,1,6))"
   ]
  },
  {
   "cell_type": "code",
   "execution_count": 1239,
   "id": "435028e9",
   "metadata": {},
   "outputs": [],
   "source": [
    "arimax_model_fit=arimax_model.fit()"
   ]
  },
  {
   "cell_type": "code",
   "execution_count": 1240,
   "id": "7eb34445",
   "metadata": {},
   "outputs": [],
   "source": [
    "prediction=arimax_model_fit.predict(start=\"2015-07-01\",end=\"2016-12-01\")"
   ]
  },
  {
   "cell_type": "code",
   "execution_count": null,
   "id": "ef9d10b8",
   "metadata": {},
   "outputs": [],
   "source": []
  },
  {
   "cell_type": "code",
   "execution_count": 1241,
   "id": "7479a486",
   "metadata": {},
   "outputs": [],
   "source": [
    "airP[\"pred\"]=prediction"
   ]
  },
  {
   "cell_type": "code",
   "execution_count": 1242,
   "id": "a4f81083",
   "metadata": {},
   "outputs": [
    {
     "data": {
      "text/html": [
       "<div>\n",
       "<style scoped>\n",
       "    .dataframe tbody tr th:only-of-type {\n",
       "        vertical-align: middle;\n",
       "    }\n",
       "\n",
       "    .dataframe tbody tr th {\n",
       "        vertical-align: top;\n",
       "    }\n",
       "\n",
       "    .dataframe thead th {\n",
       "        text-align: right;\n",
       "    }\n",
       "</style>\n",
       "<table border=\"1\" class=\"dataframe\">\n",
       "  <thead>\n",
       "    <tr style=\"text-align: right;\">\n",
       "      <th></th>\n",
       "      <th>Order_Demand</th>\n",
       "      <th>roll_mean</th>\n",
       "      <th>rolling_std</th>\n",
       "      <th>shift1</th>\n",
       "      <th>shift_differnce</th>\n",
       "      <th>pred</th>\n",
       "    </tr>\n",
       "    <tr>\n",
       "      <th>Date</th>\n",
       "      <th></th>\n",
       "      <th></th>\n",
       "      <th></th>\n",
       "      <th></th>\n",
       "      <th></th>\n",
       "      <th></th>\n",
       "    </tr>\n",
       "  </thead>\n",
       "  <tbody>\n",
       "    <tr>\n",
       "      <th>2016-08-01</th>\n",
       "      <td>6934000</td>\n",
       "      <td>7.278000e+06</td>\n",
       "      <td>542310.545050</td>\n",
       "      <td>7108000.0</td>\n",
       "      <td>-174000.0</td>\n",
       "      <td>7.879575e+06</td>\n",
       "    </tr>\n",
       "    <tr>\n",
       "      <th>2016-09-01</th>\n",
       "      <td>6960000</td>\n",
       "      <td>7.164250e+06</td>\n",
       "      <td>435342.524498</td>\n",
       "      <td>6934000.0</td>\n",
       "      <td>26000.0</td>\n",
       "      <td>7.875123e+06</td>\n",
       "    </tr>\n",
       "    <tr>\n",
       "      <th>2016-10-01</th>\n",
       "      <td>7727000</td>\n",
       "      <td>7.158667e+06</td>\n",
       "      <td>426879.019126</td>\n",
       "      <td>6960000.0</td>\n",
       "      <td>767000.0</td>\n",
       "      <td>7.878477e+06</td>\n",
       "    </tr>\n",
       "    <tr>\n",
       "      <th>2016-11-01</th>\n",
       "      <td>8814000</td>\n",
       "      <td>7.291833e+06</td>\n",
       "      <td>641626.035707</td>\n",
       "      <td>7727000.0</td>\n",
       "      <td>1087000.0</td>\n",
       "      <td>7.876462e+06</td>\n",
       "    </tr>\n",
       "    <tr>\n",
       "      <th>2016-12-01</th>\n",
       "      <td>5653000</td>\n",
       "      <td>7.196000e+06</td>\n",
       "      <td>790001.841195</td>\n",
       "      <td>8814000.0</td>\n",
       "      <td>-3161000.0</td>\n",
       "      <td>7.877896e+06</td>\n",
       "    </tr>\n",
       "  </tbody>\n",
       "</table>\n",
       "</div>"
      ],
      "text/plain": [
       "            Order_Demand     roll_mean    rolling_std     shift1  \\\n",
       "Date                                                               \n",
       "2016-08-01       6934000  7.278000e+06  542310.545050  7108000.0   \n",
       "2016-09-01       6960000  7.164250e+06  435342.524498  6934000.0   \n",
       "2016-10-01       7727000  7.158667e+06  426879.019126  6960000.0   \n",
       "2016-11-01       8814000  7.291833e+06  641626.035707  7727000.0   \n",
       "2016-12-01       5653000  7.196000e+06  790001.841195  8814000.0   \n",
       "\n",
       "            shift_differnce          pred  \n",
       "Date                                       \n",
       "2016-08-01        -174000.0  7.879575e+06  \n",
       "2016-09-01          26000.0  7.875123e+06  \n",
       "2016-10-01         767000.0  7.878477e+06  \n",
       "2016-11-01        1087000.0  7.876462e+06  \n",
       "2016-12-01       -3161000.0  7.877896e+06  "
      ]
     },
     "execution_count": 1242,
     "metadata": {},
     "output_type": "execute_result"
    }
   ],
   "source": [
    "airP.tail()"
   ]
  },
  {
   "cell_type": "code",
   "execution_count": 1243,
   "id": "0be04637",
   "metadata": {},
   "outputs": [
    {
     "data": {
      "text/plain": [
       "<Axes: xlabel='Date', ylabel='Order_Demand'>"
      ]
     },
     "execution_count": 1243,
     "metadata": {},
     "output_type": "execute_result"
    },
    {
     "data": {
      "image/png": "[encoded data removed]",
      "text/plain": [
       "<Figure size 640x480 with 1 Axes>"
      ]
     },
     "metadata": {},
     "output_type": "display_data"
    }
   ],
   "source": [
    "sns.lineplot(data=airP,x=airP.index,y=\"Order_Demand\")\n",
    "sns.lineplot(data=airP,x=airP.index,y=\"pred\")"
   ]
  },
  {
   "cell_type": "code",
   "execution_count": 1244,
   "id": "8b83ead3",
   "metadata": {},
   "outputs": [],
   "source": [
    "from sklearn.metrics import mean_squared_error"
   ]
  },
  {
   "cell_type": "code",
   "execution_count": 1245,
   "id": "607c5312",
   "metadata": {},
   "outputs": [
    {
     "data": {
      "text/plain": [
       "888226.9503627367"
      ]
     },
     "execution_count": 1245,
     "metadata": {},
     "output_type": "execute_result"
    }
   ],
   "source": [
    "np.sqrt(mean_squared_error(test[\"Order_Demand\"],prediction))"
   ]
  },
  {
   "cell_type": "code",
   "execution_count": null,
   "id": "d9d2ab84",
   "metadata": {},
   "outputs": [],
   "source": []
  },
  {
   "cell_type": "code",
   "execution_count": 1223,
   "id": "7dc52409",
   "metadata": {},
   "outputs": [],
   "source": [
    "# Now we try Sarimax model"
   ]
  },
  {
   "cell_type": "code",
   "execution_count": 1224,
   "id": "d2e43b1d",
   "metadata": {},
   "outputs": [],
   "source": [
    "from statsmodels.tsa.statespace.sarimax import SARIMAX"
   ]
  },
  {
   "cell_type": "code",
   "execution_count": 1232,
   "id": "8dc80388",
   "metadata": {},
   "outputs": [],
   "source": [
    "model=SARIMAX(train[\"Order_Demand\"],order=(2,1,6),seasonal_order=(2,0,6,42))"
   ]
  },
  {
   "cell_type": "code",
   "execution_count": 1233,
   "id": "1b73cf44",
   "metadata": {},
   "outputs": [],
   "source": [
    "model_fit=model.fit()"
   ]
  },
  {
   "cell_type": "code",
   "execution_count": 1234,
   "id": "5d3f46c6",
   "metadata": {},
   "outputs": [],
   "source": [
    "prediction=model_fit.predict(start=\"2015-07-01\",end=\"2016-12-01\")"
   ]
  },
  {
   "cell_type": "code",
   "execution_count": 1235,
   "id": "b5ff0987",
   "metadata": {},
   "outputs": [],
   "source": [
    "airP[\"pred\"]=prediction"
   ]
  },
  {
   "cell_type": "code",
   "execution_count": 1236,
   "id": "39cb0088",
   "metadata": {},
   "outputs": [
    {
     "data": {
      "text/plain": [
       "<Axes: xlabel='Date', ylabel='Order_Demand'>"
      ]
     },
     "execution_count": 1236,
     "metadata": {},
     "output_type": "execute_result"
    },
    {
     "data": {
      "image/png": "[encoded data removed]",
      "text/plain": [
       "<Figure size 1600x800 with 1 Axes>"
      ]
     },
     "metadata": {},
     "output_type": "display_data"
    }
   ],
   "source": [
    "plt.figure(figsize=(16,8))\n",
    "sns.lineplot(data=airP,x=airP.index,y=\"Order_Demand\")\n",
    "sns.lineplot(data=airP,x=airP.index,y=\"pred\")"
   ]
  },
  {
   "cell_type": "code",
   "execution_count": 1237,
   "id": "fc8677c4",
   "metadata": {},
   "outputs": [
    {
     "data": {
      "text/plain": [
       "780799.8474759283"
      ]
     },
     "execution_count": 1237,
     "metadata": {},
     "output_type": "execute_result"
    }
   ],
   "source": [
    "np.sqrt(mean_squared_error(test[\"Order_Demand\"],prediction))"
   ]
  },
  {
   "cell_type": "code",
   "execution_count": 1079,
   "id": "0d4de50a",
   "metadata": {},
   "outputs": [
    {
     "data": {
      "text/plain": [
       "2015-07-01    8.849102e+06\n",
       "2015-08-01    7.594248e+06\n",
       "2015-09-01    8.254959e+06\n",
       "2015-10-01    8.044904e+06\n",
       "2015-11-01    8.087742e+06\n",
       "2015-12-01    8.226253e+06\n",
       "2016-01-01    7.909844e+06\n",
       "2016-02-01    8.155942e+06\n",
       "2016-03-01    8.092837e+06\n",
       "2016-04-01    8.067425e+06\n",
       "2016-05-01    8.095698e+06\n",
       "2016-06-01    7.837702e+06\n",
       "2016-07-01    8.038452e+06\n",
       "2016-08-01    7.758148e+06\n",
       "2016-09-01    8.027433e+06\n",
       "2016-10-01    8.113509e+06\n",
       "2016-11-01    7.992906e+06\n",
       "2016-12-01    7.875621e+06\n",
       "Freq: MS, Name: predicted_mean, dtype: float64"
      ]
     },
     "execution_count": 1079,
     "metadata": {},
     "output_type": "execute_result"
    }
   ],
   "source": [
    "prediction"
   ]
  },
  {
   "cell_type": "markdown",
   "id": "46b49f9a",
   "metadata": {},
   "source": [
    "# <b> <font color=\"red\">  Note:- </font> </b>we see our SARIMAX model work quiet good then ARIMA so we use SARIMAX for prediction"
   ]
  },
  {
   "cell_type": "code",
   "execution_count": null,
   "id": "9542958d",
   "metadata": {},
   "outputs": [],
   "source": []
  },
  {
   "cell_type": "code",
   "execution_count": 1248,
   "id": "8e63067c",
   "metadata": {},
   "outputs": [],
   "source": [
    "import pickle"
   ]
  },
  {
   "cell_type": "code",
   "execution_count": 1252,
   "id": "09adb58c",
   "metadata": {},
   "outputs": [],
   "source": [
    "with open(\"model_pickle.pkl\",\"wb\") as f:\n",
    "    pickle.dump(model_fit,f)"
   ]
  },
  {
   "cell_type": "code",
   "execution_count": 1253,
   "id": "76e348cf",
   "metadata": {},
   "outputs": [],
   "source": [
    "with open(\"model_pickle.pkl\",\"rb\") as f:\n",
    "    mp=pickle.load(f)"
   ]
  },
  {
   "cell_type": "code",
   "execution_count": 1251,
   "id": "7620fa21",
   "metadata": {},
   "outputs": [
    {
     "data": {
      "text/plain": [
       "2015-07-01    8.201441e+06\n",
       "2015-08-01    6.733657e+06\n",
       "2015-09-01    7.436862e+06\n",
       "Freq: MS, Name: predicted_mean, dtype: float64"
      ]
     },
     "execution_count": 1251,
     "metadata": {},
     "output_type": "execute_result"
    }
   ],
   "source": [
    "mp.predict(start=\"2015-07-01\",end=\"2015-09-01\")"
   ]
  },
  {
   "cell_type": "code",
   "execution_count": null,
   "id": "a11874cc",
   "metadata": {},
   "outputs": [],
   "source": []
  }
 ],
 "metadata": {
  "kernelspec": {
   "display_name": "Python 3 (ipykernel)",
   "language": "python",
   "name": "python3"
  },
  "language_info": {
   "codemirror_mode": {
    "name": "ipython",
    "version": 3
   },
   "file_extension": ".py",
   "mimetype": "text/x-python",
   "name": "python",
   "nbconvert_exporter": "python",
   "pygments_lexer": "ipython3",
   "version": "3.11.7"
  }
 },
 "nbformat": 4,
 "nbformat_minor": 5
}
